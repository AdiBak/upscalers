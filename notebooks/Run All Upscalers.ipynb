{
 "cells": [
  {
   "cell_type": "markdown",
   "id": "25728a26",
   "metadata": {},
   "source": [
    "# Run All Upscalers\n",
    "\n",
    "This book runs all the upscalers available in this `upscalers` project, collecting the single-image performance timings and providing the image output for visual comparison."
   ]
  },
  {
   "cell_type": "code",
   "execution_count": 3,
   "id": "8cb88183",
   "metadata": {},
   "outputs": [],
   "source": [
    "# initia\n",
    "from upscalers.config import load_models"
   ]
  },
  {
   "cell_type": "code",
   "execution_count": null,
   "id": "9dce24cd",
   "metadata": {},
   "outputs": [],
   "source": []
  }
 ],
 "metadata": {
  "kernelspec": {
   "display_name": "Python 3 (ipykernel)",
   "language": "python",
   "name": "python3"
  },
  "language_info": {
   "codemirror_mode": {
    "name": "ipython",
    "version": 3
   },
   "file_extension": ".py",
   "mimetype": "text/x-python",
   "name": "python",
   "nbconvert_exporter": "python",
   "pygments_lexer": "ipython3",
   "version": "3.9.2"
  }
 },
 "nbformat": 4,
 "nbformat_minor": 5
}
